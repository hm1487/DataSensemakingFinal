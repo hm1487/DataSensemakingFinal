{
 "cells": [
  {
   "cell_type": "code",
   "execution_count": 2,
   "metadata": {},
   "outputs": [],
   "source": [
    "import pandas as pd\n",
    "import numpy as np"
   ]
  },
  {
   "cell_type": "code",
   "execution_count": 3,
   "metadata": {},
   "outputs": [],
   "source": [
    "df = pd.read_csv(\"updatedJobs.csv\")"
   ]
  },
  {
   "cell_type": "code",
   "execution_count": 4,
   "metadata": {},
   "outputs": [],
   "source": [
    "counter = 0\n",
    "dept = df['newDepartments']\n",
    "skills = df['Preferred Skills']"
   ]
  },
  {
   "cell_type": "code",
   "execution_count": 5,
   "metadata": {},
   "outputs": [],
   "source": [
    "HealthArray = []\n",
    "for x in dept:\n",
    "    if (x == \"Health\"):\n",
    "        HealthArray.append(counter)\n",
    "    counter+=1"
   ]
  },
  {
   "cell_type": "code",
   "execution_count": 6,
   "metadata": {},
   "outputs": [
    {
     "name": "stdout",
     "output_type": "stream",
     "text": [
      "536\n"
     ]
    }
   ],
   "source": [
    "print(len(HealthArray))"
   ]
  },
  {
   "cell_type": "code",
   "execution_count": 7,
   "metadata": {},
   "outputs": [],
   "source": [
    "counter = 0\n",
    "EngineeringArray = []\n",
    "for x in dept:\n",
    "    if (x == \"Engineering, Architecture,\"):\n",
    "        EngineeringArray.append(counter)\n",
    "    counter+=1"
   ]
  },
  {
   "cell_type": "code",
   "execution_count": 8,
   "metadata": {},
   "outputs": [],
   "source": [
    "counter = 0\n",
    "TechnologyArray = []\n",
    "for x in dept:\n",
    "    if (x == \"Technology, Data\"):\n",
    "        TechnologyArray.append(counter)\n",
    "    counter+=1"
   ]
  },
  {
   "cell_type": "code",
   "execution_count": 9,
   "metadata": {},
   "outputs": [
    {
     "name": "stdout",
     "output_type": "stream",
     "text": [
      "588\n",
      "389\n"
     ]
    }
   ],
   "source": [
    "print(len(EngineeringArray))\n",
    "print(len(TechnologyArray))"
   ]
  },
  {
   "cell_type": "code",
   "execution_count": 91,
   "metadata": {},
   "outputs": [],
   "source": [
    "deptDict = {}\n",
    "for d in HealthArray:\n",
    "    temp = skills[d].split(\" \")\n",
    "    if (temp[0] == \"health\"):\n",
    "        holder = temp[0]\n",
    "    elif (temp[0] == \"\"):\n",
    "        holder = \"null\"\n",
    "    elif (temp[0] == \"legal\"):\n",
    "        holder = temp[0]\n",
    "    else:\n",
    "        holder = temp[0]\n",
    "    if (holder.find('â€¢') != -1):\n",
    "        holder = holder.replace(\"â€¢\",\"\")\n",
    "    if (holder.find('\\t') != -1):\n",
    "        holder = holder.replace('\\t',\"\")\n",
    "    if (holder.find('--') != -1):\n",
    "        holder = holder.replace(\"--\",\"\")\n",
    "    holder = holder.lower()\n",
    "    if (deptDict.get(holder)==None):\n",
    "        deptDict[holder] = 1\n",
    "    else:\n",
    "        deptDict[holder] += 1"
   ]
  },
  {
   "cell_type": "code",
   "execution_count": 92,
   "metadata": {},
   "outputs": [
    {
     "name": "stdout",
     "output_type": "stream",
     "text": [
      "#name? 92\n",
      "null 60\n",
      "the 39\n",
      "experience 27\n",
      "excellent 24\n",
      "strong 23\n",
      "applicant 23\n",
      "knowledge 22\n",
      "- 18\n",
      "board 14\n",
      "good 12\n",
      "Null 11\n",
      "preferred 10\n",
      "expertise 8\n",
      "patient 8\n",
      "must 8\n",
      "bilingual: 7\n",
      "fluency 6\n",
      "license 6\n",
      "master's 4\n",
      "spanish 4\n",
      "candidates 4\n",
      "-experience 4\n",
      "minimum 4\n",
      "preference 4\n",
      "bilingual 4\n",
      "a 4\n",
      "candidate 4\n",
      "prior 2\n",
      "in-depth 2\n",
      "proficiency 2\n",
      "supervisory 2\n",
      "o 2\n",
      "* 2\n",
      "keen 2\n",
      ".applicant 2\n",
      "extensive 2\n",
      "-strong 2\n",
      "successful 2\n",
      "traveling 2\n",
      "community 2\n",
      "-direct 2\n",
      "maternal, 2\n",
      "-ability 2\n",
      "-knowledge 2\n",
      "special 2\n",
      "** 2\n",
      "masters 2\n",
      "it 2\n",
      "qualifications 2\n",
      "functional 2\n",
      "five 2\n",
      "ability 2\n",
      "bi 2\n",
      "proficient 2\n",
      "familiarity 2\n",
      "three 2\n",
      "-familiarity 2\n",
      "-ma/ms 2\n",
      "qualifying 2\n",
      "bi-lingual: 2\n",
      "highly 2\n",
      "at 2\n",
      "2-5 2\n",
      "1. 2\n",
      "one 2\n",
      "lmsw, 2\n",
      "current, 2\n",
      "in 1\n",
      "technical 1\n"
     ]
    }
   ],
   "source": [
    "for x in sorted(deptDict, key=deptDict.get, reverse=True):\n",
    "    if (x == \"\"):\n",
    "        print(\"Null\", deptDict.get(x))\n",
    "    else:\n",
    "        print(x,deptDict.get(x))\n"
   ]
  },
  {
   "cell_type": "code",
   "execution_count": 93,
   "metadata": {},
   "outputs": [],
   "source": [
    "EDict = {}\n",
    "for d in EngineeringArray:\n",
    "    temp = skills[d].split(\" \")\n",
    "    if (temp[0] == \"health\"):\n",
    "        holder = temp[0]\n",
    "    elif (temp[0] == \"\"):\n",
    "        holder = \"null\"\n",
    "    elif (temp[0] == \"legal\"):\n",
    "        holder = temp[0]\n",
    "    else:\n",
    "        holder = temp[0]\n",
    "    if (holder.find('â€¢') != -1):\n",
    "        holder = holder.replace(\"â€¢\",\"\")\n",
    "    if (holder.find('\\t') != -1):\n",
    "        holder = holder.replace('\\t',\"\")\n",
    "    if (holder.find('--') != -1):\n",
    "        holder = holder.replace(\"--\",\"\")\n",
    "    holder = holder.lower()\n",
    "    if (EDict.get(holder)==None):\n",
    "        EDict[holder] = 1\n",
    "    else:\n",
    "        EDict[holder] += 1"
   ]
  },
  {
   "cell_type": "code",
   "execution_count": 94,
   "metadata": {},
   "outputs": [
    {
     "name": "stdout",
     "output_type": "stream",
     "text": [
      "the 56\n",
      "Null 56\n",
      "null 52\n",
      "1. 48\n",
      "candidates 31\n",
      "experience 30\n",
      "ability 30\n",
      "preference 22\n",
      "a 16\n",
      "strong 14\n",
      "proficiency 12\n",
      "familiarity 9\n",
      "1.experience 8\n",
      "candidate 7\n",
      "excellent 7\n",
      "minimum 6\n",
      "possession 6\n",
      "1.knowledge 6\n",
      "1.minimum 6\n",
      "required 6\n",
      "civil 6\n",
      "selected 6\n",
      "1.ability 6\n",
      "- 4\n",
      "knowledge 4\n",
      "eit 4\n",
      "* 4\n",
      "1.a 4\n",
      "1.bachelors 4\n",
      "managerial 4\n",
      "1.autocad 4\n",
      "1.ten 4\n",
      "1.10+ 4\n",
      "specific 4\n",
      "successful 4\n",
      "prior 4\n",
      "superior 4\n",
      "areas 4\n",
      "demonstrate 4\n",
      "1.demonstrated 3\n",
      "preferred 2\n",
      "ms 2\n",
      "new 2\n",
      "extensive 2\n",
      "1.strong 2\n",
      "have 2\n",
      "1.four 2\n",
      "proficient 2\n",
      "critical 2\n",
      "bachelors 2\n",
      "expert 2\n",
      "1.preference 2\n",
      "one 2\n",
      "1.written 2\n",
      "1.over 2\n",
      "1.one 2\n",
      "1.proficient 2\n",
      "demonstrates 2\n",
      "***a 2\n",
      "additionally, 2\n",
      "1.4-year 2\n",
      "confidentiality, 2\n",
      "any 2\n",
      "p.e. 2\n",
      "some 2\n",
      "-excellent 2\n",
      "demonstrated 2\n",
      "â¿excellent 2\n",
      "qualified 2\n",
      "osha 2\n",
      "interest 2\n",
      "detailed 2\n",
      "thorough 2\n",
      "3-5 2\n",
      "1.an 2\n",
      "background 2\n",
      "a. 1\n",
      "prefer 1\n",
      "***in 1\n"
     ]
    }
   ],
   "source": [
    "for x in sorted(EDict, key=EDict.get, reverse=True):\n",
    "    if (x == \"\"):\n",
    "        print(\"Null\", EDict.get(x))\n",
    "    else:\n",
    "        print(x,EDict.get(x))"
   ]
  },
  {
   "cell_type": "code",
   "execution_count": 102,
   "metadata": {},
   "outputs": [],
   "source": [
    "TDict = {}\n",
    "for d in TechnologyArray:\n",
    "    temp = skills[d].split(\" \")\n",
    "    if (temp[0] == \"health\"):\n",
    "        holder = temp[0]\n",
    "    elif (temp[0] == \"\"):\n",
    "        holder = \"null\"\n",
    "    elif (temp[0] == \"legal\"):\n",
    "        holder = temp[0]\n",
    "    else:\n",
    "        holder = temp[0]\n",
    "    if (holder.find('â€¢') != -1):\n",
    "        holder = holder.replace(\"â€¢\",\"\")\n",
    "    if (holder.find('\\t') != -1):\n",
    "        holder = holder.replace('\\t',\"\")\n",
    "    if (holder.find('--') != -1):\n",
    "        holder = holder.replace(\"--\",\"\")\n",
    "    holder = holder.lower()\n",
    "    if (TDict.get(holder)==None):\n",
    "        TDict[holder] = 1\n",
    "    else:\n",
    "        TDict[holder] += 1"
   ]
  },
  {
   "cell_type": "code",
   "execution_count": 103,
   "metadata": {},
   "outputs": [
    {
     "name": "stdout",
     "output_type": "stream",
     "text": [
      "the 96\n",
      "Null 60\n",
      "â· 16\n",
      "minimum 14\n",
      "strong 14\n",
      "preferred 10\n",
      "a 10\n",
      "experience 10\n",
      "we 9\n",
      "null 8\n",
      "preference 8\n",
      "- 6\n",
      "at 6\n",
      "demonstrated 6\n",
      "five 6\n",
      "* 6\n",
      "5+ 6\n",
      "1. 6\n",
      "excellent 5\n",
      "working 4\n",
      "understanding 4\n",
      "has 4\n",
      "ability 4\n",
      "proven 3\n",
      "valid 2\n",
      "if 2\n",
      "i)minimum 2\n",
      "in-depth 2\n",
      "2+ 2\n",
      "1.at 2\n",
      "knowledge/skills: 2\n",
      "1)ms 2\n",
      "3+ 2\n",
      "written 2\n",
      "clear 2\n",
      "7+ 2\n",
      "etl 2\n",
      "in 2\n",
      "hands-on 2\n",
      "*** 2\n",
      "it 2\n",
      "brm 2\n",
      "social 2\n",
      "more 2\n",
      "self-motivated 2\n",
      "effective 2\n",
      "proficient 2\n",
      "degree 2\n",
      "proficiency 2\n",
      "comptia 2\n",
      "windows 2\n",
      "3-5 2\n",
      "1.familiarity 2\n",
      "customer 2\n",
      "candidates 2\n",
      "4-8-year 2\n",
      "2-4 2\n",
      "vcp 1\n",
      "c#, 1\n"
     ]
    }
   ],
   "source": [
    "for x in sorted(TDict, key=TDict.get, reverse=True):\n",
    "    if (x == \"\"):\n",
    "        print(\"Null\", TDict.get(x))\n",
    "    else:\n",
    "        print(x,TDict.get(x))"
   ]
  },
  {
   "cell_type": "code",
   "execution_count": 97,
   "metadata": {},
   "outputs": [],
   "source": [
    "newDF = pd.Series(deptDict)"
   ]
  },
  {
   "cell_type": "code",
   "execution_count": 98,
   "metadata": {},
   "outputs": [],
   "source": [
    "newDF.to_csv('HealthWords.csv')"
   ]
  },
  {
   "cell_type": "code",
   "execution_count": 99,
   "metadata": {},
   "outputs": [],
   "source": [
    "newDF = pd.Series(EDict)"
   ]
  },
  {
   "cell_type": "code",
   "execution_count": 100,
   "metadata": {},
   "outputs": [],
   "source": [
    "newDF.to_csv(\"EngineeringWords.csv\")"
   ]
  },
  {
   "cell_type": "code",
   "execution_count": 104,
   "metadata": {},
   "outputs": [],
   "source": [
    "newDF = pd.Series(TDict)\n",
    "newDF.to_csv(\"TechWords.csv\")"
   ]
  },
  {
   "cell_type": "code",
   "execution_count": 63,
   "metadata": {},
   "outputs": [
    {
     "name": "stdout",
     "output_type": "stream",
     "text": [
      "â€¢\n"
     ]
    }
   ],
   "source": []
  },
  {
   "cell_type": "code",
   "execution_count": null,
   "metadata": {},
   "outputs": [],
   "source": []
  }
 ],
 "metadata": {
  "kernelspec": {
   "display_name": "Python 3",
   "language": "python",
   "name": "python3"
  },
  "language_info": {
   "codemirror_mode": {
    "name": "ipython",
    "version": 3
   },
   "file_extension": ".py",
   "mimetype": "text/x-python",
   "name": "python",
   "nbconvert_exporter": "python",
   "pygments_lexer": "ipython3",
   "version": "3.6.4"
  }
 },
 "nbformat": 4,
 "nbformat_minor": 2
}
