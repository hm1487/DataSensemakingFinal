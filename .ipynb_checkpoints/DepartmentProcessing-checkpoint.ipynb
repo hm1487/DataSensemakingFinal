{
 "cells": [
  {
   "cell_type": "code",
   "execution_count": 1,
   "metadata": {},
   "outputs": [],
   "source": [
    "import pandas as pd\n",
    "import numpy as np"
   ]
  },
  {
   "cell_type": "code",
   "execution_count": 3,
   "metadata": {},
   "outputs": [],
   "source": [
    "df = pd.read_csv(\"NYC_Jobs.csv\")"
   ]
  },
  {
   "cell_type": "code",
   "execution_count": 24,
   "metadata": {},
   "outputs": [
    {
     "name": "stdout",
     "output_type": "stream",
     "text": [
      "3451\n"
     ]
    }
   ],
   "source": [
    "departments = df['Job Category']\n",
    "print(len(departments))"
   ]
  },
  {
   "cell_type": "code",
   "execution_count": 22,
   "metadata": {},
   "outputs": [],
   "source": [
    "deptDict = {}\n",
    "for d in departments:\n",
    "    temp = d.split(\" \")\n",
    "    if (temp[0] == \"Health\"):\n",
    "        holder = temp[0]\n",
    "    elif (temp[0] == \"\"):\n",
    "        holder = \"Null\"\n",
    "    elif (temp[0] == \"Legal\"):\n",
    "        holder = temp[0]\n",
    "    elif (len(temp) > 1):\n",
    "        if (temp[1] == \"&\"):\n",
    "            holder = temp[0] + \" \" + temp[1] + \" \" + temp[2]\n",
    "        else:\n",
    "            holder = temp[0] + \" \" + temp[1]\n",
    "    else:\n",
    "        holder = temp[0]\n",
    "    if (deptDict.get(holder)==None):\n",
    "        deptDict[holder] = 1\n",
    "    else:\n",
    "        deptDict[holder] += 1"
   ]
  },
  {
   "cell_type": "code",
   "execution_count": 23,
   "metadata": {},
   "outputs": [
    {
     "name": "stdout",
     "output_type": "stream",
     "text": [
      "Engineering, Architecture, 588\n",
      "Health 536\n",
      "Technology, Data 389\n",
      "Legal 244\n",
      "Administration & Human 240\n",
      "Public Safety, 239\n",
      "Constituent Services 238\n",
      "Finance, Accounting, 211\n",
      "Building Operations 179\n",
      "Policy, Research 173\n",
      "Social Services 96\n",
      "Information Technology 73\n",
      "Communications & Intergovernmental 64\n",
      "Clerical & Administrative 49\n",
      "1 48\n",
      "Maintenance & Operations 25\n",
      "Community & Business 22\n",
      "Policy & Analysis 12\n",
      "Null 9\n",
      "M1 8\n",
      "2 8\n"
     ]
    }
   ],
   "source": [
    "for x in sorted(deptDict, key=deptDict.get, reverse=True):\n",
    "    if (x == \"\"):\n",
    "        print(\"Null\", deptDict.get(x))\n",
    "    else:\n",
    "        print(x,deptDict.get(x))"
   ]
  },
  {
   "cell_type": "code",
   "execution_count": null,
   "metadata": {},
   "outputs": [],
   "source": []
  }
 ],
 "metadata": {
  "kernelspec": {
   "display_name": "Python 3",
   "language": "python",
   "name": "python3"
  },
  "language_info": {
   "codemirror_mode": {
    "name": "ipython",
    "version": 3
   },
   "file_extension": ".py",
   "mimetype": "text/x-python",
   "name": "python",
   "nbconvert_exporter": "python",
   "pygments_lexer": "ipython3",
   "version": "3.6.4"
  }
 },
 "nbformat": 4,
 "nbformat_minor": 2
}
